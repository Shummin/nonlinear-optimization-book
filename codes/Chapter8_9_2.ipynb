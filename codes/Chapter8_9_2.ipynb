{
 "cells": [
  {
   "cell_type": "markdown",
   "id": "dccf2b3d",
   "metadata": {},
   "source": [
    "# 8.9.2 ニュートン型近接勾配法のサンプルコード"
   ]
  },
  {
   "cell_type": "code",
   "execution_count": 1,
   "id": "e8d552d0",
   "metadata": {},
   "outputs": [],
   "source": [
    "import numpy as np"
   ]
  },
  {
   "cell_type": "markdown",
   "id": "c681a0bf",
   "metadata": {},
   "source": [
    "### コード8.7 ■ コード8.6 のLasso への適用"
   ]
  },
  {
   "cell_type": "code",
   "execution_count": 2,
   "id": "804f1417",
   "metadata": {},
   "outputs": [
    {
     "name": "stdout",
     "output_type": "stream",
     "text": [
      "PGM with backtracking.:反復回数511, 最適値3.52284e+01\n",
      "Proximal_Newton:反復回数1, 最適値3.52284e+01\n",
      "PGM with backtracking.:反復回数6, 最適値3.52284e+01\n",
      "Proximal_Newton:反復回数2, 最適値3.52284e+01\n",
      "PGM with backtracking.:反復回数1, 最適値3.52284e+01\n",
      "Proximal_Newton:反復回数3, 最適値3.52284e+01\n"
     ]
    }
   ],
   "source": [
    "from code8_6 import * # ニュートン型近接勾配法 Proximal_Newton のコードを読み込み\n",
    "from code8_2 import * # 近接勾配法(バックトラッキング) ProximalGradient_backtrack のコードを読み込み\n",
    "from code8_4 import * #ソフト閾値関数 soft_thresholding のコードを読み込み\n",
    "n, m = 1000, 100\n",
    "A = np.random.randn(m, n)\n",
    "b = np.random.randn(m)\n",
    "C = 10\n",
    "def LS(x): # 線形最小二乗の目的関数\n",
    "    Axb = A@x - b\n",
    "    return Axb@Axb/2\n",
    "def nab_LS(x): # 勾配\n",
    "    Axb = A@x - b\n",
    "    return A.T@Axb\n",
    "l1 = lambda x: C*np.linalg.norm(x,1) # l1正則化 C||x||_1\n",
    "x_0 = np.zeros(n)\n",
    "AtA = lambda x: A.T@A # xにおけるヘッセ行列\n",
    "x_PN = Proximal_Newton(LS, nab_LS, l1, soft_thresholding, C, x_0, AtA)"
   ]
  },
  {
   "cell_type": "code",
   "execution_count": null,
   "id": "231f4bef",
   "metadata": {},
   "outputs": [],
   "source": []
  }
 ],
 "metadata": {
  "kernelspec": {
   "display_name": "Python 3 (ipykernel)",
   "language": "python",
   "name": "python3"
  },
  "language_info": {
   "codemirror_mode": {
    "name": "ipython",
    "version": 3
   },
   "file_extension": ".py",
   "mimetype": "text/x-python",
   "name": "python",
   "nbconvert_exporter": "python",
   "pygments_lexer": "ipython3",
   "version": "3.11.4"
  }
 },
 "nbformat": 4,
 "nbformat_minor": 5
}
